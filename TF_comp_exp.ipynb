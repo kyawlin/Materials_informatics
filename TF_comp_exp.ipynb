{
 "cells": [
  {
   "cell_type": "code",
   "execution_count": 50,
   "metadata": {},
   "outputs": [],
   "source": [
    "import pandas as pd"
   ]
  },
  {
   "cell_type": "code",
   "execution_count": 51,
   "metadata": {},
   "outputs": [
    {
     "data": {
      "text/html": [
       "<div>\n",
       "<style scoped>\n",
       "    .dataframe tbody tr th:only-of-type {\n",
       "        vertical-align: middle;\n",
       "    }\n",
       "\n",
       "    .dataframe tbody tr th {\n",
       "        vertical-align: top;\n",
       "    }\n",
       "\n",
       "    .dataframe thead th {\n",
       "        text-align: right;\n",
       "    }\n",
       "</style>\n",
       "<table border=\"1\" class=\"dataframe\">\n",
       "  <thead>\n",
       "    <tr style=\"text-align: right;\">\n",
       "      <th></th>\n",
       "      <th>formula</th>\n",
       "      <th>Property band_gap</th>\n",
       "      <th>Property band_gap units</th>\n",
       "      <th>Property SMILES</th>\n",
       "    </tr>\n",
       "  </thead>\n",
       "  <tbody>\n",
       "    <tr>\n",
       "      <th>0</th>\n",
       "      <td>GdCoO$_{3}$</td>\n",
       "      <td>0.1754</td>\n",
       "      <td>eV/atom</td>\n",
       "      <td>NaN</td>\n",
       "    </tr>\n",
       "    <tr>\n",
       "      <th>1</th>\n",
       "      <td>PrPt</td>\n",
       "      <td>0.0000</td>\n",
       "      <td>eV/atom</td>\n",
       "      <td>NaN</td>\n",
       "    </tr>\n",
       "    <tr>\n",
       "      <th>2</th>\n",
       "      <td>Tl$_{2}$SeO$_{4}$</td>\n",
       "      <td>3.3122</td>\n",
       "      <td>eV/atom</td>\n",
       "      <td>NaN</td>\n",
       "    </tr>\n",
       "    <tr>\n",
       "      <th>3</th>\n",
       "      <td>Ba$_{5}$(InSb$_{3}$)$_{2}$</td>\n",
       "      <td>0.0000</td>\n",
       "      <td>eV/atom</td>\n",
       "      <td>NaN</td>\n",
       "    </tr>\n",
       "    <tr>\n",
       "      <th>4</th>\n",
       "      <td>NiP$_{2}$</td>\n",
       "      <td>0.5442</td>\n",
       "      <td>eV/atom</td>\n",
       "      <td>NaN</td>\n",
       "    </tr>\n",
       "  </tbody>\n",
       "</table>\n",
       "</div>"
      ],
      "text/plain": [
       "                      formula  Property band_gap Property band_gap units  \\\n",
       "0                 GdCoO$_{3}$             0.1754                 eV/atom   \n",
       "1                        PrPt             0.0000                 eV/atom   \n",
       "2           Tl$_{2}$SeO$_{4}$             3.3122                 eV/atom   \n",
       "3  Ba$_{5}$(InSb$_{3}$)$_{2}$             0.0000                 eV/atom   \n",
       "4                   NiP$_{2}$             0.5442                 eV/atom   \n",
       "\n",
       "  Property SMILES  \n",
       "0             NaN  \n",
       "1             NaN  \n",
       "2             NaN  \n",
       "3             NaN  \n",
       "4             NaN  "
      ]
     },
     "execution_count": 51,
     "metadata": {},
     "output_type": "execute_result"
    }
   ],
   "source": [
    "computational_df= pd.read_csv('comp.csv')\n",
    "computational_df.head()"
   ]
  },
  {
   "cell_type": "code",
   "execution_count": 52,
   "metadata": {},
   "outputs": [],
   "source": [
    "computational_df.rename(columns={\"formula\":\"chemical_formula\",\"Property band_gap\":\"band_gap\"},inplace=True,errors=\"raise\")"
   ]
  },
  {
   "cell_type": "code",
   "execution_count": 53,
   "metadata": {},
   "outputs": [],
   "source": [
    "computational_df['chemical_formula']=computational_df['chemical_formula'].astype('str').apply(lambda x:x.translate\n",
    "                                          ({ord(c): None for c in \"_${}\"}))"
   ]
  },
  {
   "cell_type": "code",
   "execution_count": 54,
   "metadata": {},
   "outputs": [
    {
     "data": {
      "application/vnd.jupyter.widget-view+json": {
       "model_id": "1ff4fd7e2fce47cab77debf71f85ad1d",
       "version_major": 2,
       "version_minor": 0
      },
      "text/plain": [
       "HBox(children=(FloatProgress(value=0.0, description='StrToComposition', max=40317.0, style=ProgressStyle(descr…"
      ]
     },
     "metadata": {},
     "output_type": "display_data"
    },
    {
     "name": "stdout",
     "output_type": "stream",
     "text": [
      "\n"
     ]
    }
   ],
   "source": [
    "from matminer.featurizers.conversions import StrToComposition\n",
    "computational_df = StrToComposition().featurize_dataframe(computational_df, 'chemical_formula')"
   ]
  },
  {
   "cell_type": "code",
   "execution_count": 55,
   "metadata": {
    "scrolled": false
   },
   "outputs": [
    {
     "data": {
      "application/vnd.jupyter.widget-view+json": {
       "model_id": "c37b58a28db740779914987c8c7cf957",
       "version_major": 2,
       "version_minor": 0
      },
      "text/plain": [
       "HBox(children=(FloatProgress(value=0.0, description='ElementProperty', max=40317.0, style=ProgressStyle(descri…"
      ]
     },
     "metadata": {},
     "output_type": "display_data"
    },
    {
     "name": "stdout",
     "output_type": "stream",
     "text": [
      "\n"
     ]
    },
    {
     "data": {
      "text/html": [
       "<div>\n",
       "<style scoped>\n",
       "    .dataframe tbody tr th:only-of-type {\n",
       "        vertical-align: middle;\n",
       "    }\n",
       "\n",
       "    .dataframe tbody tr th {\n",
       "        vertical-align: top;\n",
       "    }\n",
       "\n",
       "    .dataframe thead th {\n",
       "        text-align: right;\n",
       "    }\n",
       "</style>\n",
       "<table border=\"1\" class=\"dataframe\">\n",
       "  <thead>\n",
       "    <tr style=\"text-align: right;\">\n",
       "      <th></th>\n",
       "      <th>chemical_formula</th>\n",
       "      <th>band_gap</th>\n",
       "      <th>Property band_gap units</th>\n",
       "      <th>Property SMILES</th>\n",
       "      <th>composition</th>\n",
       "      <th>MagpieData minimum Number</th>\n",
       "      <th>MagpieData maximum Number</th>\n",
       "      <th>MagpieData range Number</th>\n",
       "      <th>MagpieData mean Number</th>\n",
       "      <th>MagpieData avg_dev Number</th>\n",
       "      <th>...</th>\n",
       "      <th>MagpieData mean GSmagmom</th>\n",
       "      <th>MagpieData avg_dev GSmagmom</th>\n",
       "      <th>MagpieData mode GSmagmom</th>\n",
       "      <th>MagpieData minimum SpaceGroupNumber</th>\n",
       "      <th>MagpieData maximum SpaceGroupNumber</th>\n",
       "      <th>MagpieData range SpaceGroupNumber</th>\n",
       "      <th>MagpieData mean SpaceGroupNumber</th>\n",
       "      <th>MagpieData avg_dev SpaceGroupNumber</th>\n",
       "      <th>MagpieData mode SpaceGroupNumber</th>\n",
       "      <th>ElementProperty Exceptions</th>\n",
       "    </tr>\n",
       "  </thead>\n",
       "  <tbody>\n",
       "    <tr>\n",
       "      <th>0</th>\n",
       "      <td>GdCoO3</td>\n",
       "      <td>0.1754</td>\n",
       "      <td>eV/atom</td>\n",
       "      <td>NaN</td>\n",
       "      <td>(Gd, Co, O)</td>\n",
       "      <td>8.0</td>\n",
       "      <td>64.0</td>\n",
       "      <td>56.0</td>\n",
       "      <td>23.000000</td>\n",
       "      <td>18.000000</td>\n",
       "      <td>...</td>\n",
       "      <td>0.309694</td>\n",
       "      <td>0.495511</td>\n",
       "      <td>0.0</td>\n",
       "      <td>12.0</td>\n",
       "      <td>194.0</td>\n",
       "      <td>182.0</td>\n",
       "      <td>84.800000</td>\n",
       "      <td>87.360000</td>\n",
       "      <td>12.0</td>\n",
       "      <td>NaN</td>\n",
       "    </tr>\n",
       "    <tr>\n",
       "      <th>1</th>\n",
       "      <td>PrPt</td>\n",
       "      <td>0.0000</td>\n",
       "      <td>eV/atom</td>\n",
       "      <td>NaN</td>\n",
       "      <td>(Pr, Pt)</td>\n",
       "      <td>59.0</td>\n",
       "      <td>78.0</td>\n",
       "      <td>19.0</td>\n",
       "      <td>68.500000</td>\n",
       "      <td>9.500000</td>\n",
       "      <td>...</td>\n",
       "      <td>0.000000</td>\n",
       "      <td>0.000000</td>\n",
       "      <td>0.0</td>\n",
       "      <td>194.0</td>\n",
       "      <td>225.0</td>\n",
       "      <td>31.0</td>\n",
       "      <td>209.500000</td>\n",
       "      <td>15.500000</td>\n",
       "      <td>194.0</td>\n",
       "      <td>NaN</td>\n",
       "    </tr>\n",
       "    <tr>\n",
       "      <th>2</th>\n",
       "      <td>Tl2SeO4</td>\n",
       "      <td>3.3122</td>\n",
       "      <td>eV/atom</td>\n",
       "      <td>NaN</td>\n",
       "      <td>(Tl, Se, O)</td>\n",
       "      <td>8.0</td>\n",
       "      <td>81.0</td>\n",
       "      <td>73.0</td>\n",
       "      <td>32.571429</td>\n",
       "      <td>28.081633</td>\n",
       "      <td>...</td>\n",
       "      <td>0.000000</td>\n",
       "      <td>0.000000</td>\n",
       "      <td>0.0</td>\n",
       "      <td>12.0</td>\n",
       "      <td>194.0</td>\n",
       "      <td>182.0</td>\n",
       "      <td>64.285714</td>\n",
       "      <td>74.122449</td>\n",
       "      <td>12.0</td>\n",
       "      <td>NaN</td>\n",
       "    </tr>\n",
       "    <tr>\n",
       "      <th>3</th>\n",
       "      <td>Ba5(InSb3)2</td>\n",
       "      <td>0.0000</td>\n",
       "      <td>eV/atom</td>\n",
       "      <td>NaN</td>\n",
       "      <td>(Ba, In, Sb)</td>\n",
       "      <td>49.0</td>\n",
       "      <td>56.0</td>\n",
       "      <td>7.0</td>\n",
       "      <td>52.615385</td>\n",
       "      <td>2.603550</td>\n",
       "      <td>...</td>\n",
       "      <td>0.000000</td>\n",
       "      <td>0.000000</td>\n",
       "      <td>0.0</td>\n",
       "      <td>139.0</td>\n",
       "      <td>229.0</td>\n",
       "      <td>90.0</td>\n",
       "      <td>186.076923</td>\n",
       "      <td>33.017751</td>\n",
       "      <td>166.0</td>\n",
       "      <td>NaN</td>\n",
       "    </tr>\n",
       "    <tr>\n",
       "      <th>4</th>\n",
       "      <td>NiP2</td>\n",
       "      <td>0.5442</td>\n",
       "      <td>eV/atom</td>\n",
       "      <td>NaN</td>\n",
       "      <td>(Ni, P)</td>\n",
       "      <td>15.0</td>\n",
       "      <td>28.0</td>\n",
       "      <td>13.0</td>\n",
       "      <td>19.333333</td>\n",
       "      <td>5.777778</td>\n",
       "      <td>...</td>\n",
       "      <td>0.198465</td>\n",
       "      <td>0.264620</td>\n",
       "      <td>0.0</td>\n",
       "      <td>2.0</td>\n",
       "      <td>225.0</td>\n",
       "      <td>223.0</td>\n",
       "      <td>76.333333</td>\n",
       "      <td>99.111111</td>\n",
       "      <td>2.0</td>\n",
       "      <td>NaN</td>\n",
       "    </tr>\n",
       "  </tbody>\n",
       "</table>\n",
       "<p>5 rows × 138 columns</p>\n",
       "</div>"
      ],
      "text/plain": [
       "  chemical_formula  band_gap Property band_gap units Property SMILES  \\\n",
       "0           GdCoO3    0.1754                 eV/atom             NaN   \n",
       "1             PrPt    0.0000                 eV/atom             NaN   \n",
       "2          Tl2SeO4    3.3122                 eV/atom             NaN   \n",
       "3      Ba5(InSb3)2    0.0000                 eV/atom             NaN   \n",
       "4             NiP2    0.5442                 eV/atom             NaN   \n",
       "\n",
       "    composition  MagpieData minimum Number  MagpieData maximum Number  \\\n",
       "0   (Gd, Co, O)                        8.0                       64.0   \n",
       "1      (Pr, Pt)                       59.0                       78.0   \n",
       "2   (Tl, Se, O)                        8.0                       81.0   \n",
       "3  (Ba, In, Sb)                       49.0                       56.0   \n",
       "4       (Ni, P)                       15.0                       28.0   \n",
       "\n",
       "   MagpieData range Number  MagpieData mean Number  MagpieData avg_dev Number  \\\n",
       "0                     56.0               23.000000                  18.000000   \n",
       "1                     19.0               68.500000                   9.500000   \n",
       "2                     73.0               32.571429                  28.081633   \n",
       "3                      7.0               52.615385                   2.603550   \n",
       "4                     13.0               19.333333                   5.777778   \n",
       "\n",
       "   ...  MagpieData mean GSmagmom  MagpieData avg_dev GSmagmom  \\\n",
       "0  ...                  0.309694                     0.495511   \n",
       "1  ...                  0.000000                     0.000000   \n",
       "2  ...                  0.000000                     0.000000   \n",
       "3  ...                  0.000000                     0.000000   \n",
       "4  ...                  0.198465                     0.264620   \n",
       "\n",
       "   MagpieData mode GSmagmom  MagpieData minimum SpaceGroupNumber  \\\n",
       "0                       0.0                                 12.0   \n",
       "1                       0.0                                194.0   \n",
       "2                       0.0                                 12.0   \n",
       "3                       0.0                                139.0   \n",
       "4                       0.0                                  2.0   \n",
       "\n",
       "   MagpieData maximum SpaceGroupNumber  MagpieData range SpaceGroupNumber  \\\n",
       "0                                194.0                              182.0   \n",
       "1                                225.0                               31.0   \n",
       "2                                194.0                              182.0   \n",
       "3                                229.0                               90.0   \n",
       "4                                225.0                              223.0   \n",
       "\n",
       "   MagpieData mean SpaceGroupNumber  MagpieData avg_dev SpaceGroupNumber  \\\n",
       "0                         84.800000                            87.360000   \n",
       "1                        209.500000                            15.500000   \n",
       "2                         64.285714                            74.122449   \n",
       "3                        186.076923                            33.017751   \n",
       "4                         76.333333                            99.111111   \n",
       "\n",
       "   MagpieData mode SpaceGroupNumber  ElementProperty Exceptions  \n",
       "0                              12.0                         NaN  \n",
       "1                             194.0                         NaN  \n",
       "2                              12.0                         NaN  \n",
       "3                             166.0                         NaN  \n",
       "4                               2.0                         NaN  \n",
       "\n",
       "[5 rows x 138 columns]"
      ]
     },
     "execution_count": 55,
     "metadata": {},
     "output_type": "execute_result"
    }
   ],
   "source": [
    "from matminer.featurizers.composition import ElementProperty\n",
    "\n",
    "ep_feat = ElementProperty.from_preset(preset_name=\"magpie\")\n",
    "computational_df = ep_feat.featurize_dataframe(computational_df, col_id=\"composition\",ignore_errors=True,return_errors=True)  # input the \"composition\" column to the featurizer\n",
    "computational_df.head()"
   ]
  },
  {
   "cell_type": "code",
   "execution_count": 120,
   "metadata": {},
   "outputs": [
    {
     "data": {
      "text/plain": [
       "40317"
      ]
     },
     "execution_count": 120,
     "metadata": {},
     "output_type": "execute_result"
    }
   ],
   "source": [
    "len(X)"
   ]
  },
  {
   "cell_type": "code",
   "execution_count": 121,
   "metadata": {},
   "outputs": [
    {
     "data": {
      "text/plain": [
       "40311"
      ]
     },
     "execution_count": 121,
     "metadata": {},
     "output_type": "execute_result"
    }
   ],
   "source": [
    "a=X.dropna()\n",
    "len(a)"
   ]
  },
  {
   "cell_type": "code",
   "execution_count": 116,
   "metadata": {},
   "outputs": [
    {
     "data": {
      "text/plain": [
       "nan"
      ]
     },
     "execution_count": 116,
     "metadata": {},
     "output_type": "execute_result"
    }
   ],
   "source": [
    "computational_df.loc[5644]['MagpieData minimum MeltingT']"
   ]
  },
  {
   "cell_type": "code",
   "execution_count": 117,
   "metadata": {},
   "outputs": [
    {
     "data": {
      "text/plain": [
       "chemical_formula                            He\n",
       "band_gap                               17.8914\n",
       "Property band_gap units                eV/atom\n",
       "Property SMILES                            NaN\n",
       "composition                               (He)\n",
       "                                        ...   \n",
       "MagpieData range SpaceGroupNumber            0\n",
       "MagpieData mean SpaceGroupNumber           225\n",
       "MagpieData avg_dev SpaceGroupNumber          0\n",
       "MagpieData mode SpaceGroupNumber           225\n",
       "ElementProperty Exceptions                 NaN\n",
       "Name: 5644, Length: 138, dtype: object"
      ]
     },
     "execution_count": 117,
     "metadata": {},
     "output_type": "execute_result"
    }
   ],
   "source": [
    "computational_df.loc[5644]"
   ]
  },
  {
   "cell_type": "code",
   "execution_count": 122,
   "metadata": {},
   "outputs": [],
   "source": [
    "excluded = [\"chemical_formula\",\"band_gap\",\"Property band_gap units\", \"Property SMILES\", \"composition\",\"ElementProperty Exceptions\"]\n",
    "excluded_df = computational_df.drop(excluded,axis=1)\n",
    "X= excluded_df.dropna()\n",
    "y=computational_df['band_gap'].values"
   ]
  },
  {
   "cell_type": "code",
   "execution_count": 124,
   "metadata": {},
   "outputs": [],
   "source": [
    "excluded = [ \"Property SMILES\", \"ElementProperty Exceptions\"]\n",
    "excluded_df = computational_df.drop(excluded,axis=1).dropna()\n",
    "X = excluded_df.drop([\"chemical_formula\",\"band_gap\",\"Property band_gap units\",\"composition\"],axis=1)\n",
    "y= excluded_df['band_gap']"
   ]
  },
  {
   "cell_type": "code",
   "execution_count": 139,
   "metadata": {},
   "outputs": [
    {
     "name": "stdout",
     "output_type": "stream",
     "text": [
      "training R2 = 0.605\n",
      "training RMSE = 1.100\n"
     ]
    }
   ],
   "source": [
    "from sklearn.linear_model import LinearRegression\n",
    "from sklearn import preprocessing\n",
    "from sklearn.metrics import mean_squared_error\n",
    "import numpy as np\n",
    "min_max_scaler = preprocessing.StandardScaler()\n",
    "X_train_minmax = min_max_scaler.fit_transform(X)\n",
    "lr = LinearRegression()\n",
    "\n",
    "lr.fit(X_train_minmax, y)\n",
    "\n",
    "# get fit statistics\n",
    "print('training R2 = ' + str(round(lr.score(X_train_minmax, y), 3)))\n",
    "print('training RMSE = %.3f' % np.sqrt(mean_squared_error(y_true=y, y_pred=lr.predict(X_train_minmax))))"
   ]
  },
  {
   "cell_type": "code",
   "execution_count": 144,
   "metadata": {},
   "outputs": [
    {
     "name": "stdout",
     "output_type": "stream",
     "text": [
      "R2 = 0.963\n",
      "RMSE = 0.337\n"
     ]
    }
   ],
   "source": [
    "from sklearn.ensemble import RandomForestRegressor\n",
    "\n",
    "rf = RandomForestRegressor(n_estimators=50, random_state=1)\n",
    "\n",
    "rf.fit(X, y)\n",
    "print ('R2 = ' + str(round(rf.score(X, y), 3)))\n",
    "print ('RMSE = %.3f' % np.sqrt(mean_squared_error(y_true=y, y_pred=rf.predict(X))))"
   ]
  },
  {
   "cell_type": "code",
   "execution_count": null,
   "metadata": {},
   "outputs": [],
   "source": []
  }
 ],
 "metadata": {
  "kernelspec": {
   "display_name": "Python 3",
   "language": "python",
   "name": "python3"
  },
  "language_info": {
   "codemirror_mode": {
    "name": "ipython",
    "version": 3
   },
   "file_extension": ".py",
   "mimetype": "text/x-python",
   "name": "python",
   "nbconvert_exporter": "python",
   "pygments_lexer": "ipython3",
   "version": "3.7.7"
  }
 },
 "nbformat": 4,
 "nbformat_minor": 4
}
